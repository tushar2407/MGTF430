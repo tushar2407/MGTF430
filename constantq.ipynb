{
 "cells": [
  {
   "cell_type": "code",
   "execution_count": null,
   "metadata": {},
   "outputs": [],
   "source": [
    "import librosa\n",
    "import pandas as pd\n",
    "import numpy as np"
   ]
  },
  {
   "cell_type": "code",
   "execution_count": null,
   "metadata": {},
   "outputs": [],
   "source": [
    "df = pd.read_feather('CRSP_daily_data_for_project(Technical_Analysis).feather')\n",
    "\n",
    "cqt_window_size = 30\n",
    "n_bins = 20  \n",
    "\n",
    "def create_cqt_df(stock_df):\n",
    "    stock_returns = stock_df['vwretx'].values\n",
    "\n",
    "    # 数据预处理：确保所有值是有限的\n",
    "    stock_returns = np.nan_to_num(stock_returns, nan=0.0, posinf=0.0, neginf=0.0)\n",
    "\n",
    "    sr = 1\n",
    "    fmin = 0.01  # 最小频率\n",
    "    hop_length = 1\n",
    "    cqt_result = librosa.cqt(stock_returns, n_bins=n_bins, sr=sr, hop_length=hop_length, fmin=fmin)\n",
    "    cqt_result_db = librosa.amplitude_to_db(np.abs(cqt_result), ref=np.mean)\n",
    "    cqt_df = pd.DataFrame(cqt_result_db.T, columns=[f'CQT_{i+1}' for i in range(cqt_result_db.shape[0])])\n",
    "    cqt_df = cqt_df.loc[:len(stock_df)-1, :]  # 确保数据长度与原始数据匹配\n",
    "    cqt = pd.concat([stock_df['date'], cqt_df], axis=1)\n",
    "    return cqt"
   ]
  },
  {
   "cell_type": "code",
   "execution_count": null,
   "metadata": {},
   "outputs": [],
   "source": [
    "stock_codes = df['PERMNO'].unique()\n",
    "unique_dates = df['date'].unique()\n",
    "\n",
    "num_dates = len(unique_dates)\n",
    "max_shape = (len(stock_codes), num_dates, cqt_window_size, n_bins)\n",
    "final_4d_array = np.full(max_shape, np.nan)\n",
    "\n",
    "date_to_index = {date: idx for idx, date in enumerate(unique_dates)}\n",
    "\n",
    "\n",
    "# Function to create rolling windows\n",
    "def create_rolling_windows(data, cqt_window_size):\n",
    "    windows = []\n",
    "    date_indices = []\n",
    "    for i in range(len(data) - cqt_window_size + 1):\n",
    "        window = data.iloc[i:i + cqt_window_size].values[:, 1:]  \n",
    "        windows.append(window)\n",
    "        start_date = data.iloc[i]['date']\n",
    "        if start_date in date_to_index:\n",
    "            date_indices.append(date_to_index[start_date])\n",
    "    return np.array(windows), date_indices"
   ]
  },
  {
   "cell_type": "code",
   "execution_count": null,
   "metadata": {},
   "outputs": [],
   "source": [
    "for stock_idx, stock_code in enumerate(stock_codes):\n",
    "    stock_data = df[df['PERMNO'] == stock_code].reset_index(drop=True)\n",
    "    \n",
    "    # create CQT data\n",
    "    cqt_data = create_cqt_df(stock_data)\n",
    "    \n",
    "    rolling_windows_3d, date_indices = create_rolling_windows(cqt_data, cqt_window_size)\n",
    "    \n",
    "    # fill the 4d array\n",
    "    for window_idx, (window_data, date_idx) in enumerate(zip(rolling_windows_3d, date_indices)):\n",
    "        if window_data.shape == (cqt_window_size, n_bins):\n",
    "            final_4d_array[stock_idx, date_idx, :, :] = window_data\n",
    "\n",
    "\n",
    "final_4d_array"
   ]
  },
  {
   "cell_type": "code",
   "execution_count": null,
   "metadata": {},
   "outputs": [],
   "source": []
  }
 ],
 "metadata": {
  "kernelspec": {
   "display_name": "ml",
   "language": "python",
   "name": "python3"
  },
  "language_info": {
   "codemirror_mode": {
    "name": "ipython",
    "version": 3
   },
   "file_extension": ".py",
   "mimetype": "text/x-python",
   "name": "python",
   "nbconvert_exporter": "python",
   "pygments_lexer": "ipython3",
   "version": "3.9.12"
  }
 },
 "nbformat": 4,
 "nbformat_minor": 2
}
