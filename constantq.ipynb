{
 "cells": [
  {
   "cell_type": "code",
   "execution_count": 1,
   "metadata": {},
   "outputs": [],
   "source": [
    "import pandas as pd\n",
    "import numpy as np\n",
    "import librosa\n",
    "\n",
    "# Read the Feather file\n",
    "df = pd.read_feather('CRSP_daily_data_for_project(Technical_Analysis).feather')\n",
    "df = df[(df['PERMNO']==10000) |( df['PERMNO']==10001)|(df['PERMNO']==10002)| (df['PERMNO']==93434)|(df['PERMNO']==93435)|(df['PERMNO']==93436)]\n"
   ]
  },
  {
   "cell_type": "code",
   "execution_count": 2,
   "metadata": {},
   "outputs": [],
   "source": [
    "\n",
    "# Get the list of all stock codes\n",
    "stock_codes = df['PERMNO'].unique()\n",
    "\n",
    "cqt_window_size = 30\n",
    "n_bins = 20  # Number of CQT bins\n",
    "\n",
    "# Get all unique dates\n",
    "unique_dates = df['date'].unique()\n",
    "\n",
    "# Create the 4D array, initialized with NaN\n",
    "num_dates = len(unique_dates)\n",
    "max_shape = (len(stock_codes), num_dates, cqt_window_size, n_bins)\n",
    "final_4d_array = np.full(max_shape, np.nan)\n",
    "\n",
    "# Create the date-to-index mapping\n",
    "date_to_index = {date: idx for idx, date in enumerate(unique_dates)}\n",
    "\n",
    "# Create the stock code-to-index mapping\n",
    "stock_code_to_index = {stock_code: idx for idx, stock_code in enumerate(stock_codes)}\n",
    "\n"
   ]
  },
  {
   "cell_type": "code",
   "execution_count": 3,
   "metadata": {},
   "outputs": [],
   "source": [
    "# Function: Generate CQT data for each stock\n",
    "def create_cqt_df(stock_df):\n",
    "    stock_returns = stock_df['vwretx'].values\n",
    "\n",
    "    # Data preprocessing: Ensure all values are finite\n",
    "    stock_returns = np.nan_to_num(stock_returns, nan=0.0, posinf=0.0, neginf=0.0)\n",
    "\n",
    "    sr = 1\n",
    "    fmin = 0.01  # Minimum frequency\n",
    "    hop_length = 1\n",
    "    cqt_result = librosa.cqt(stock_returns, n_bins=n_bins, sr=sr, hop_length=hop_length, fmin=fmin)\n",
    "    cqt_result_db = librosa.amplitude_to_db(np.abs(cqt_result), ref=np.mean)\n",
    "\n",
    "    cqt_df = pd.DataFrame(cqt_result_db.T, columns=[f'CQT_{i+1}' for i in range(cqt_result_db.shape[0])])\n",
    "    cqt_df = cqt_df.loc[:len(stock_df)-1, :]  # Ensure the length matches the original data\n",
    "    cqt = pd.concat([stock_df['date'], cqt_df], axis=1)\n",
    "    return cqt\n",
    "\n",
    "# Function: Create rolling windows and retain date indices\n",
    "def create_rolling_windows_with_dates(data, cqt_window_size):\n",
    "    windows = []\n",
    "    date_indices = []\n",
    "    for i in range(len(data) - cqt_window_size + 1):\n",
    "        window = data.iloc[i:i + cqt_window_size, 1:].values  # Exclude the date column, keep only CQT data\n",
    "        windows.append(window)\n",
    "        start_date = data.iloc[i]['date']\n",
    "        if start_date in date_to_index:\n",
    "            date_indices.append(date_to_index[start_date])\n",
    "    return np.array(windows), date_indices\n"
   ]
  },
  {
   "cell_type": "code",
   "execution_count": 6,
   "metadata": {},
   "outputs": [
    {
     "name": "stderr",
     "output_type": "stream",
     "text": [
      "/opt/anaconda3/envs/ml/lib/python3.9/site-packages/librosa/core/spectrum.py:266: UserWarning: n_fft=2048 is too large for input signal of length=363\n",
      "  warnings.warn(\n",
      "/opt/anaconda3/envs/ml/lib/python3.9/site-packages/librosa/core/spectrum.py:266: UserWarning: n_fft=2048 is too large for input signal of length=489\n",
      "  warnings.warn(\n"
     ]
    },
    {
     "data": {
      "text/plain": [
       "(6, 9573, 30, 20)"
      ]
     },
     "execution_count": 6,
     "metadata": {},
     "output_type": "execute_result"
    }
   ],
   "source": [
    "\n",
    "# Iterate over each stock and fill the 4D array\n",
    "for stock_code in stock_codes:\n",
    "    stock_idx = stock_code_to_index[stock_code]\n",
    "    stock_data = df[df['PERMNO'] == stock_code].reset_index(drop=True)\n",
    "    \n",
    "    # Generate CQT data\n",
    "    cqt_data = create_cqt_df(stock_data)\n",
    "\n",
    "    # Create rolling windows and retain date indices\n",
    "    rolling_windows_3d, date_indices = create_rolling_windows_with_dates(cqt_data, cqt_window_size)\n",
    "    \n",
    "    # Print rolling windows shape and date indices\n",
    "\n",
    "    \n",
    "    # Fill the 4D array\n",
    "    for window_idx, (window_data, date_idx) in enumerate(zip(rolling_windows_3d, date_indices)):\n",
    "        if window_data.shape == (cqt_window_size, n_bins):\n",
    "            final_4d_array[stock_idx, date_idx, :, :] = window_data\n",
    "\n",
    "\n",
    "\n",
    "final_4d_array.shape"
   ]
  },
  {
   "cell_type": "code",
   "execution_count": null,
   "metadata": {},
   "outputs": [],
   "source": []
  },
  {
   "cell_type": "code",
   "execution_count": null,
   "metadata": {},
   "outputs": [],
   "source": []
  }
 ],
 "metadata": {
  "kernelspec": {
   "display_name": "ml",
   "language": "python",
   "name": "python3"
  },
  "language_info": {
   "codemirror_mode": {
    "name": "ipython",
    "version": 3
   },
   "file_extension": ".py",
   "mimetype": "text/x-python",
   "name": "python",
   "nbconvert_exporter": "python",
   "pygments_lexer": "ipython3",
   "version": "3.9.12"
  }
 },
 "nbformat": 4,
 "nbformat_minor": 2
}
